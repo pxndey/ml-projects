{
 "cells": [
  {
   "cell_type": "code",
   "execution_count": 43,
   "id": "fb52af21",
   "metadata": {},
   "outputs": [],
   "source": [
    "import numpy as np\n",
    "import pandas as pd\n",
    "import matplotlib.pyplot as plt\n",
    "import seaborn as sns\n",
    "import warnings\n",
    "warnings.filterwarnings('ignore')"
   ]
  },
  {
   "cell_type": "code",
   "execution_count": 44,
   "id": "54d4e3ca",
   "metadata": {},
   "outputs": [],
   "source": [
    "#sklearn\n",
    "from sklearn.preprocessing import LabelEncoder\n",
    "from sklearn.feature_extraction.text import CountVectorizer,TfidfVectorizer\n",
    "from sklearn.naive_bayes import GaussianNB,MultinomialNB,BernoulliNB\n",
    "from sklearn.svm import SVC\n",
    "from sklearn.linear_model import LogisticRegression\n",
    "from sklearn.model_selection import train_test_split\n",
    "from sklearn.metrics import accuracy_score"
   ]
  },
  {
   "cell_type": "code",
   "execution_count": 45,
   "id": "eae7776c",
   "metadata": {},
   "outputs": [],
   "source": [
    "f = pd.read_csv('spotify_millsongdata.csv')"
   ]
  },
  {
   "cell_type": "code",
   "execution_count": 46,
   "id": "266564b7",
   "metadata": {},
   "outputs": [
    {
     "data": {
      "text/html": [
       "<div>\n",
       "<style scoped>\n",
       "    .dataframe tbody tr th:only-of-type {\n",
       "        vertical-align: middle;\n",
       "    }\n",
       "\n",
       "    .dataframe tbody tr th {\n",
       "        vertical-align: top;\n",
       "    }\n",
       "\n",
       "    .dataframe thead th {\n",
       "        text-align: right;\n",
       "    }\n",
       "</style>\n",
       "<table border=\"1\" class=\"dataframe\">\n",
       "  <thead>\n",
       "    <tr style=\"text-align: right;\">\n",
       "      <th></th>\n",
       "      <th>artist</th>\n",
       "      <th>song</th>\n",
       "      <th>link</th>\n",
       "      <th>text</th>\n",
       "    </tr>\n",
       "  </thead>\n",
       "  <tbody>\n",
       "    <tr>\n",
       "      <th>0</th>\n",
       "      <td>ABBA</td>\n",
       "      <td>Ahe's My Kind Of Girl</td>\n",
       "      <td>/a/abba/ahes+my+kind+of+girl_20598417.html</td>\n",
       "      <td>Look at her face, it's a wonderful face  \\r\\nA...</td>\n",
       "    </tr>\n",
       "    <tr>\n",
       "      <th>1</th>\n",
       "      <td>ABBA</td>\n",
       "      <td>Andante, Andante</td>\n",
       "      <td>/a/abba/andante+andante_20002708.html</td>\n",
       "      <td>Take it easy with me, please  \\r\\nTouch me gen...</td>\n",
       "    </tr>\n",
       "    <tr>\n",
       "      <th>2</th>\n",
       "      <td>ABBA</td>\n",
       "      <td>As Good As New</td>\n",
       "      <td>/a/abba/as+good+as+new_20003033.html</td>\n",
       "      <td>I'll never know why I had to go  \\r\\nWhy I had...</td>\n",
       "    </tr>\n",
       "    <tr>\n",
       "      <th>3</th>\n",
       "      <td>ABBA</td>\n",
       "      <td>Bang</td>\n",
       "      <td>/a/abba/bang_20598415.html</td>\n",
       "      <td>Making somebody happy is a question of give an...</td>\n",
       "    </tr>\n",
       "    <tr>\n",
       "      <th>4</th>\n",
       "      <td>ABBA</td>\n",
       "      <td>Bang-A-Boomerang</td>\n",
       "      <td>/a/abba/bang+a+boomerang_20002668.html</td>\n",
       "      <td>Making somebody happy is a question of give an...</td>\n",
       "    </tr>\n",
       "  </tbody>\n",
       "</table>\n",
       "</div>"
      ],
      "text/plain": [
       "  artist                   song                                        link  \\\n",
       "0   ABBA  Ahe's My Kind Of Girl  /a/abba/ahes+my+kind+of+girl_20598417.html   \n",
       "1   ABBA       Andante, Andante       /a/abba/andante+andante_20002708.html   \n",
       "2   ABBA         As Good As New        /a/abba/as+good+as+new_20003033.html   \n",
       "3   ABBA                   Bang                  /a/abba/bang_20598415.html   \n",
       "4   ABBA       Bang-A-Boomerang      /a/abba/bang+a+boomerang_20002668.html   \n",
       "\n",
       "                                                text  \n",
       "0  Look at her face, it's a wonderful face  \\r\\nA...  \n",
       "1  Take it easy with me, please  \\r\\nTouch me gen...  \n",
       "2  I'll never know why I had to go  \\r\\nWhy I had...  \n",
       "3  Making somebody happy is a question of give an...  \n",
       "4  Making somebody happy is a question of give an...  "
      ]
     },
     "execution_count": 46,
     "metadata": {},
     "output_type": "execute_result"
    }
   ],
   "source": [
    "f.head()"
   ]
  },
  {
   "cell_type": "code",
   "execution_count": 47,
   "id": "cded1890",
   "metadata": {},
   "outputs": [
    {
     "name": "stdout",
     "output_type": "stream",
     "text": [
      "<class 'pandas.core.frame.DataFrame'>\n",
      "RangeIndex: 57650 entries, 0 to 57649\n",
      "Data columns (total 4 columns):\n",
      " #   Column  Non-Null Count  Dtype \n",
      "---  ------  --------------  ----- \n",
      " 0   artist  57650 non-null  object\n",
      " 1   song    57650 non-null  object\n",
      " 2   link    57650 non-null  object\n",
      " 3   text    57650 non-null  object\n",
      "dtypes: object(4)\n",
      "memory usage: 1.8+ MB\n"
     ]
    }
   ],
   "source": [
    "f.info()"
   ]
  },
  {
   "cell_type": "code",
   "execution_count": 48,
   "id": "dfba1efd",
   "metadata": {},
   "outputs": [
    {
     "data": {
      "text/plain": [
       "artist    0\n",
       "song      0\n",
       "link      0\n",
       "text      0\n",
       "dtype: int64"
      ]
     },
     "execution_count": 48,
     "metadata": {},
     "output_type": "execute_result"
    }
   ],
   "source": [
    "f.isnull().sum()"
   ]
  },
  {
   "cell_type": "code",
   "execution_count": 49,
   "id": "d270dd9d",
   "metadata": {},
   "outputs": [
    {
     "data": {
      "text/plain": [
       "array(['ABBA', 'Ace Of Base', 'Adam Sandler', 'Adele', 'Aerosmith',\n",
       "       'Air Supply', 'Aiza Seguerra', 'Alabama', 'Alan Parsons Project',\n",
       "       'Aled Jones', 'Alice Cooper', 'Alice In Chains', 'Alison Krauss',\n",
       "       'Allman Brothers Band', 'Alphaville', 'America', 'Amy Grant',\n",
       "       'Andrea Bocelli', 'Andy Williams', 'Annie', 'Ariana Grande',\n",
       "       'Ariel Rivera', 'Arlo Guthrie', 'Arrogant Worms', 'Avril Lavigne',\n",
       "       'Backstreet Boys', 'Barbie', 'Barbra Streisand', 'Beach Boys',\n",
       "       'The Beatles', 'Beautiful South', 'Beauty And The Beast',\n",
       "       'Bee Gees', 'Bette Midler', 'Bill Withers', 'Billie Holiday',\n",
       "       'Billy Joel', 'Bing Crosby', 'Black Sabbath', 'Blur', 'Bob Dylan',\n",
       "       'Bob Marley', 'Bob Rivers', 'Bob Seger', 'Bon Jovi', 'Boney M.',\n",
       "       'Bonnie Raitt', 'Bosson', 'Bread', 'Britney Spears',\n",
       "       'Bruce Springsteen', 'Bruno Mars', 'Bryan White', 'Cake',\n",
       "       'Carly Simon', 'Carol Banawa', 'Carpenters', 'Cat Stevens',\n",
       "       'Celine Dion', 'Chaka Khan', 'Cheap Trick', 'Cher', 'Chicago',\n",
       "       'Children', 'Chris Brown', 'Chris Rea', 'Christina Aguilera',\n",
       "       'Christina Perri', 'Christmas Songs', 'Christy Moore',\n",
       "       'Chuck Berry', 'Cinderella', 'Clash', 'Cliff Richard', 'Coldplay',\n",
       "       'Cole Porter', 'Conway Twitty', 'Counting Crows',\n",
       "       'Creedence Clearwater Revival', 'Crowded House', 'Culture Club',\n",
       "       'Cyndi Lauper', 'Dan Fogelberg', 'Dave Matthews Band',\n",
       "       'David Allan Coe', 'David Bowie', 'David Guetta', 'David Pomeranz',\n",
       "       'Dean Martin', 'Death', 'Deep Purple', 'Def Leppard',\n",
       "       'Demi Lovato', 'Depeche Mode', 'Devo', 'Dewa 19', 'Diana Ross',\n",
       "       'Dire Straits', 'Divine', 'Dolly Parton', 'Don Henley',\n",
       "       'Don McLean', 'Don Moen', 'Donna Summer', 'Doobie Brothers',\n",
       "       'Doors', 'Doris Day', 'Drake', 'Dream Theater',\n",
       "       'Dusty Springfield', 'Eagles', 'Ed Sheeran', 'Eddie Cochran',\n",
       "       'Electric Light Orchestra', 'Ella Fitzgerald', 'Ellie Goulding',\n",
       "       'Elton John', 'Elvis Costello', 'Elvis Presley', 'Eminem',\n",
       "       'Emmylou Harris', 'Engelbert Humperdinck', 'Enigma',\n",
       "       'Enrique Iglesias', 'Enya', 'Eppu Normaali', 'Erasure',\n",
       "       'Eric Clapton', 'Erik Santos', 'Etta James', 'Europe',\n",
       "       'Eurythmics', 'Evanescence', 'Everclear', 'Everlast', 'Exo',\n",
       "       'Exo-K', 'Extreme', 'Fabolous', 'Face To Face', 'Faces',\n",
       "       'Faith Hill', 'Faith No More', 'Falco', 'Fall Out Boy', 'Fastball',\n",
       "       'Fatboy Slim', 'Fifth Harmony', 'Fiona Apple', 'Fleetwood Mac',\n",
       "       'Flo-Rida', 'Foo Fighters', 'Foreigner', 'Frank Sinatra',\n",
       "       'Frank Zappa', 'Frankie Goes To Hollywood', 'Frankie Laine',\n",
       "       'Frankie Valli', 'Freddie Aguilar', 'Freddie King', 'Free',\n",
       "       'Freestyle', 'Fun.', 'Garth Brooks', 'Gary Numan',\n",
       "       'Gary Valenciano', 'Genesis', 'George Formby', 'George Harrison',\n",
       "       'George Jones', 'George Michael', 'George Strait', 'Gino Vannelli',\n",
       "       'Gipsy Kings', 'Glee', 'Glen Campbell', 'Gloria Estefan',\n",
       "       'Gloria Gaynor', 'GMB', 'Gordon Lightfoot', 'Grand Funk Railroad',\n",
       "       'Grateful Dead', 'Grease', 'Great Big Sea', 'Green Day',\n",
       "       'Gucci Mane', 'Guided By Voices', \"Guns N' Roses\", 'Halloween',\n",
       "       'Hank Snow', 'Hank Williams', 'Hank Williams Jr.', 'Hanson',\n",
       "       'Happy Mondays', 'Harry Belafonte', 'Harry Connick, Jr.', 'Heart',\n",
       "       'Helloween', 'High School Musical', 'Hillsong', 'Hillsong United',\n",
       "       'HIM', 'Hollies', 'Hooverphonic', 'Horrible Histories',\n",
       "       'Housemartins', 'Howard Jones', 'Human League', 'Ian Hunter',\n",
       "       'Ice Cube', 'Idina Menzel', 'Iggy Pop', 'Il Divo',\n",
       "       'Imagine Dragons', 'Imago', 'Imperials', 'Incognito', 'Incubus',\n",
       "       'Independence Day', 'Indiana Bible College', 'Indigo Girls',\n",
       "       'Ingrid Michaelson', 'Inna', 'Insane Clown Posse', 'Inside Out',\n",
       "       'INXS', 'Iron Butterfly', 'Iron Maiden', 'Irving Berlin',\n",
       "       'Isley Brothers', 'Israel', 'Israel Houghton', 'Iwan Fals',\n",
       "       'J Cole', 'Jackson Browne', 'The Jam', 'James Taylor',\n",
       "       'Janis Joplin', 'Jason Mraz', 'Jennifer Lopez', 'Jim Croce',\n",
       "       'Jimi Hendrix', 'Jimmy Buffett', 'John Denver', 'John Legend',\n",
       "       'John Martyn', 'John McDermott', 'John Mellencamp', 'John Prine',\n",
       "       'John Waite', 'Johnny Cash', 'Joni Mitchell', 'Jose Mari Chan',\n",
       "       'Josh Groban', 'Journey', 'Joy Division', 'Judas Priest', 'Judds',\n",
       "       'Judy Garland', 'Justin Bieber', 'Justin Timberlake', 'Kanye West',\n",
       "       'Kari Jobe', 'Kate Bush', 'Katy Perry', 'Keith Green',\n",
       "       'Keith Urban', 'Kelly Clarkson', 'Kelly Family', 'Kenny Chesney',\n",
       "       'Kenny Loggins', 'Kenny Rogers', 'Kid Rock', 'The Killers',\n",
       "       'Kim Wilde', 'King Crimson', 'King Diamond', 'Kinks',\n",
       "       'Kirk Franklin', 'Kirsty Maccoll', 'Kiss', 'Koes Plus', 'Korn',\n",
       "       'Kris Kristofferson', 'Kyla', 'Kylie Minogue', 'Lady Gaga',\n",
       "       'Lana Del Rey', 'Lata Mangeshkar', 'Lauryn Hill', 'Lea Salonga',\n",
       "       'Leann Rimes', 'Lenny Kravitz', 'Leo Sayer', 'Leonard Cohen',\n",
       "       'Les Miserables', 'Lil Wayne', 'Linda Ronstadt', 'Linkin Park',\n",
       "       'Lionel Richie', 'Little Mix', 'Little Walter', 'LL Cool J',\n",
       "       'Lloyd Cole', 'Lorde', 'Loretta Lynn', 'Lou Reed',\n",
       "       'Louis Armstrong', 'Louis Jordan', 'Lucky Dube', 'Luther Vandross',\n",
       "       'Lynyrd Skynyrd', 'Madonna', 'Manowar', 'Mariah Carey',\n",
       "       'Marianne Faithfull', 'Marillion', 'Marilyn Manson', 'Mark Ronson',\n",
       "       'Maroon 5', 'Mary Black', 'Matt Monro', 'Matt Redman',\n",
       "       'Mazzy Star', 'Mc Hammer', 'Meat Loaf', 'Megadeth', 'Men At Work',\n",
       "       'Metallica', 'Michael Bolton', 'Michael Buble', 'Michael Jackson',\n",
       "       'Michael W. Smith', 'Migos', 'Miley Cyrus', 'Misfits',\n",
       "       'Modern Talking', 'The Monkees', 'Moody Blues', 'Morrissey', 'Mud',\n",
       "       \"'n Sync\", 'Nat King Cole', 'Natalie Cole', 'Natalie Grant',\n",
       "       'Natalie Imbruglia', 'Nazareth', 'Ne-Yo', 'Neil Diamond',\n",
       "       'Neil Sedaka', 'Neil Young', 'New Order', 'Next To Normal',\n",
       "       'Nick Cave', 'Nick Drake', 'Nickelback', 'Nicki Minaj',\n",
       "       'Nightwish', 'Nina Simone', 'Nine Inch Nails', 'Nirvana',\n",
       "       'Nitty Gritty Dirt Band', 'Noa', 'NOFX', 'Norah Jones',\n",
       "       'Notorious B.I.G.', 'O-Zone', 'O.A.R.', 'Oasis',\n",
       "       'Ocean Colour Scene', 'Offspring', 'Ofra Haza', 'Oingo Boingo',\n",
       "       \"Old 97's\", 'Oliver', 'Olivia Newton-John', 'Olly Murs', 'Omd',\n",
       "       'One Direction', 'OneRepublic', 'Opeth', 'Orphaned Land',\n",
       "       'Oscar Hammerstein', 'Otis Redding', 'Our Lady Peace',\n",
       "       'Out Of Eden', 'Outkast', 'Overkill', 'Owl City', 'Ozzy Osbourne',\n",
       "       'Passenger', 'Pat Benatar', 'Patsy Cline', 'Patti Smith',\n",
       "       'Paul McCartney', 'Paul Simon', 'Pearl Jam', 'Perry Como',\n",
       "       'Pet Shop Boys', 'Peter Cetera', 'Peter Gabriel', 'Peter Tosh',\n",
       "       'Pharrell Williams', 'Phil Collins', 'Phineas And Ferb', 'Phish',\n",
       "       'Pink Floyd', 'Pitbull', 'Planetshakers', 'P!nk', 'Pogues',\n",
       "       'Point Of Grace', 'Poison', 'Pretenders', 'Primus', 'Prince',\n",
       "       'Proclaimers', 'Procol Harum', 'Puff Daddy', 'Q-Tip', 'Qntal',\n",
       "       'Quarashi', 'Quarterflash', 'Quasi', 'Queen', 'Queen Adreena',\n",
       "       'Queen Latifah', 'Queens Of The Stone Age', 'Queensryche',\n",
       "       'Quicksand', 'Quicksilver Messenger Service', 'Quiet Riot',\n",
       "       'Quietdrive', 'Quincy Jones', 'Quincy Punx', 'R. Kelly',\n",
       "       'Radiohead', 'Raffi', 'Rage Against The Machine', 'Rainbow',\n",
       "       'Rammstein', 'Ramones', 'Randy Travis', 'Rascal Flatts',\n",
       "       'Ray Boltz', 'Ray Charles', 'Reba Mcentire',\n",
       "       'Red Hot Chili Peppers', 'Regine Velasquez', 'Religious Music',\n",
       "       'Rem', 'Reo Speedwagon', 'Richard Marx', 'Rick Astley', 'Rihanna',\n",
       "       'Robbie Williams', 'Rod Stewart', 'Rolling Stones', 'Roxette',\n",
       "       'Roxy Music', 'Roy Orbison', 'Rush', 'Sam Smith', 'Santana',\n",
       "       'Savage Garden', 'Scorpions', 'Selah', 'Selena Gomez', 'Sia',\n",
       "       'Side A', 'Slayer', 'Smiths', 'Snoop Dogg', 'Soundgarden',\n",
       "       'Spandau Ballet', 'Squeeze', 'Starship', 'Status Quo',\n",
       "       'Steely Dan', 'Steve Miller Band', 'Stevie Ray Vaughan',\n",
       "       'Stevie Wonder', 'Sting', 'Stone Roses', 'Stone Temple Pilots',\n",
       "       'Styx', 'Sublime', 'Supertramp', 'System Of A Down',\n",
       "       'Talking Heads', 'Taylor Swift', 'Tears For Fears',\n",
       "       'The Temptations', 'Ten Years After', 'The Broadways',\n",
       "       'The Script', 'The Weeknd', 'Thin Lizzy', 'Tiffany', 'Tim Buckley',\n",
       "       'Tim McGraw', 'Tina Turner', 'Tom Jones', 'Tom Lehrer',\n",
       "       'Tom T. Hall', 'Tom Waits', 'Tool', 'Tori Amos', 'Toto',\n",
       "       'Townes Van Zandt', 'Tracy Chapman', 'Tragically Hip', 'Train',\n",
       "       'Travis', 'Twenty One Pilots', 'U. D. O.', 'U-Kiss', 'U2', 'UB40',\n",
       "       'Ufo', 'Ugly Kid Joe', \"Ultramagnetic Mc's\", 'Ultravox',\n",
       "       'Uncle Kracker', 'Uncle Tupelo', 'Underoath', 'Underworld',\n",
       "       'Unearth', 'Ungu', 'Unkle', 'Unknown', 'Unseen', 'Unwritten Law',\n",
       "       'Uriah Heep', 'Used', 'Usher', 'Utada Hikaru', 'Utopia',\n",
       "       'Van Halen', 'Van Morrison', 'Vanessa Williams', 'Vangelis',\n",
       "       'Vanilla Ice', 'Velvet Underground', 'Vengaboys', 'Venom',\n",
       "       'Vera Lynn', 'Vertical Horizon', 'Veruca Salt', 'Verve',\n",
       "       'Vince Gill', 'Violent Femmes', 'Virgin Steele', 'Vonda Shepard',\n",
       "       'Vybz Kartel', 'Walk The Moon', 'Wanda Jackson', 'Wang Chung',\n",
       "       'Warren Zevon', 'W.A.S.P.', 'Waterboys', 'Waylon Jennings', 'Ween',\n",
       "       'Weezer', 'Weird Al Yankovic', 'Westlife', 'Wet Wet Wet', 'Wham!',\n",
       "       'Whiskeytown', 'The White Stripes', 'Whitesnake',\n",
       "       'Whitney Houston', 'Who', 'Widespread Panic', 'Will Smith',\n",
       "       'Willie Nelson', 'Wilson Phillips', 'Wilson Pickett',\n",
       "       'Wishbone Ash', 'Within Temptation', 'Wiz Khalifa', 'Wu-Tang Clan',\n",
       "       'Wyclef Jean', 'X', 'X Japan', 'X-Raided', 'X-Ray Spex', 'X-Treme',\n",
       "       'Xandria', 'Xavier Naidoo', 'Xavier Rudd', 'Xentrix', 'Xiu Xiu',\n",
       "       'Xscape', 'XTC', 'Xzibit', 'Yazoo', 'Yeah Yeah Yeahs', 'Yelawolf',\n",
       "       'Yello', 'Yellowcard', 'Yeng Constantino', 'Yes', 'YG',\n",
       "       'Ying Yang Twins', 'Yngwie Malmsteen', 'Yo Gotti', 'Yo La Tengo',\n",
       "       'Yoko Ono', 'Yolanda Adams', 'Yonder Mountain String Band',\n",
       "       'You Am I', 'Young Buck', 'Young Dro', 'Young Jeezy',\n",
       "       'Youngbloodz', 'Youth Of Today', 'Yukmouth', 'Yung Joc',\n",
       "       'Yusuf Islam', 'Z-Ro', 'Zac Brown Band', 'Zakk Wylde', 'Zao',\n",
       "       'Zayn Malik', 'Zebra', 'Zebrahead', 'Zed', 'Zero 7', 'Zeromancer',\n",
       "       'Ziggy Marley', 'Zoe', 'Zoegirl', 'Zornik', 'Zox', 'Zucchero',\n",
       "       'Zwan', 'ZZ Top', 'Joseph And The Amazing Technicolor Dreamcoat',\n",
       "       'Soundtracks', 'Van Der Graaf Generator', 'Various Artists',\n",
       "       'Zazie'], dtype=object)"
      ]
     },
     "execution_count": 49,
     "metadata": {},
     "output_type": "execute_result"
    }
   ],
   "source": [
    "f['artist'].unique()"
   ]
  },
  {
   "cell_type": "code",
   "execution_count": 50,
   "id": "53f6c1e2",
   "metadata": {},
   "outputs": [],
   "source": [
    "df = f"
   ]
  },
  {
   "cell_type": "code",
   "execution_count": 51,
   "id": "e2ff9bc6",
   "metadata": {},
   "outputs": [
    {
     "data": {
      "text/plain": [
       "Index([54894, 54895, 54896], dtype='int64')"
      ]
     },
     "execution_count": 51,
     "metadata": {},
     "output_type": "execute_result"
    }
   ],
   "source": [
    "df[df['artist']=='Various Artists'].index"
   ]
  },
  {
   "cell_type": "code",
   "execution_count": 52,
   "id": "d6cee702",
   "metadata": {},
   "outputs": [],
   "source": [
    "df = df.drop([54894, 54895, 54896],axis=0)"
   ]
  },
  {
   "cell_type": "code",
   "execution_count": 53,
   "id": "02325d06",
   "metadata": {},
   "outputs": [
    {
     "data": {
      "text/html": [
       "<div>\n",
       "<style scoped>\n",
       "    .dataframe tbody tr th:only-of-type {\n",
       "        vertical-align: middle;\n",
       "    }\n",
       "\n",
       "    .dataframe tbody tr th {\n",
       "        vertical-align: top;\n",
       "    }\n",
       "\n",
       "    .dataframe thead th {\n",
       "        text-align: right;\n",
       "    }\n",
       "</style>\n",
       "<table border=\"1\" class=\"dataframe\">\n",
       "  <thead>\n",
       "    <tr style=\"text-align: right;\">\n",
       "      <th></th>\n",
       "      <th>artist</th>\n",
       "      <th>song</th>\n",
       "      <th>link</th>\n",
       "      <th>text</th>\n",
       "    </tr>\n",
       "  </thead>\n",
       "  <tbody>\n",
       "    <tr>\n",
       "      <th>0</th>\n",
       "      <td>ABBA</td>\n",
       "      <td>Ahe's My Kind Of Girl</td>\n",
       "      <td>/a/abba/ahes+my+kind+of+girl_20598417.html</td>\n",
       "      <td>Look at her face, it's a wonderful face  \\r\\nA...</td>\n",
       "    </tr>\n",
       "    <tr>\n",
       "      <th>1</th>\n",
       "      <td>ABBA</td>\n",
       "      <td>Andante, Andante</td>\n",
       "      <td>/a/abba/andante+andante_20002708.html</td>\n",
       "      <td>Take it easy with me, please  \\r\\nTouch me gen...</td>\n",
       "    </tr>\n",
       "    <tr>\n",
       "      <th>2</th>\n",
       "      <td>ABBA</td>\n",
       "      <td>As Good As New</td>\n",
       "      <td>/a/abba/as+good+as+new_20003033.html</td>\n",
       "      <td>I'll never know why I had to go  \\r\\nWhy I had...</td>\n",
       "    </tr>\n",
       "    <tr>\n",
       "      <th>3</th>\n",
       "      <td>ABBA</td>\n",
       "      <td>Bang</td>\n",
       "      <td>/a/abba/bang_20598415.html</td>\n",
       "      <td>Making somebody happy is a question of give an...</td>\n",
       "    </tr>\n",
       "    <tr>\n",
       "      <th>4</th>\n",
       "      <td>ABBA</td>\n",
       "      <td>Bang-A-Boomerang</td>\n",
       "      <td>/a/abba/bang+a+boomerang_20002668.html</td>\n",
       "      <td>Making somebody happy is a question of give an...</td>\n",
       "    </tr>\n",
       "    <tr>\n",
       "      <th>...</th>\n",
       "      <td>...</td>\n",
       "      <td>...</td>\n",
       "      <td>...</td>\n",
       "      <td>...</td>\n",
       "    </tr>\n",
       "    <tr>\n",
       "      <th>57645</th>\n",
       "      <td>Ziggy Marley</td>\n",
       "      <td>Good Old Days</td>\n",
       "      <td>/z/ziggy+marley/good+old+days_10198588.html</td>\n",
       "      <td>Irie days come on play  \\r\\nLet the angels fly...</td>\n",
       "    </tr>\n",
       "    <tr>\n",
       "      <th>57646</th>\n",
       "      <td>Ziggy Marley</td>\n",
       "      <td>Hand To Mouth</td>\n",
       "      <td>/z/ziggy+marley/hand+to+mouth_20531167.html</td>\n",
       "      <td>Power to the workers  \\r\\nMore power  \\r\\nPowe...</td>\n",
       "    </tr>\n",
       "    <tr>\n",
       "      <th>57647</th>\n",
       "      <td>Zwan</td>\n",
       "      <td>Come With Me</td>\n",
       "      <td>/z/zwan/come+with+me_20148981.html</td>\n",
       "      <td>all you need  \\r\\nis something i'll believe  \\...</td>\n",
       "    </tr>\n",
       "    <tr>\n",
       "      <th>57648</th>\n",
       "      <td>Zwan</td>\n",
       "      <td>Desire</td>\n",
       "      <td>/z/zwan/desire_20148986.html</td>\n",
       "      <td>northern star  \\r\\nam i frightened  \\r\\nwhere ...</td>\n",
       "    </tr>\n",
       "    <tr>\n",
       "      <th>57649</th>\n",
       "      <td>Zwan</td>\n",
       "      <td>Heartsong</td>\n",
       "      <td>/z/zwan/heartsong_20148991.html</td>\n",
       "      <td>come in  \\r\\nmake yourself at home  \\r\\ni'm a ...</td>\n",
       "    </tr>\n",
       "  </tbody>\n",
       "</table>\n",
       "<p>57647 rows × 4 columns</p>\n",
       "</div>"
      ],
      "text/plain": [
       "             artist                   song  \\\n",
       "0              ABBA  Ahe's My Kind Of Girl   \n",
       "1              ABBA       Andante, Andante   \n",
       "2              ABBA         As Good As New   \n",
       "3              ABBA                   Bang   \n",
       "4              ABBA       Bang-A-Boomerang   \n",
       "...             ...                    ...   \n",
       "57645  Ziggy Marley          Good Old Days   \n",
       "57646  Ziggy Marley          Hand To Mouth   \n",
       "57647          Zwan           Come With Me   \n",
       "57648          Zwan                 Desire   \n",
       "57649          Zwan              Heartsong   \n",
       "\n",
       "                                              link  \\\n",
       "0       /a/abba/ahes+my+kind+of+girl_20598417.html   \n",
       "1            /a/abba/andante+andante_20002708.html   \n",
       "2             /a/abba/as+good+as+new_20003033.html   \n",
       "3                       /a/abba/bang_20598415.html   \n",
       "4           /a/abba/bang+a+boomerang_20002668.html   \n",
       "...                                            ...   \n",
       "57645  /z/ziggy+marley/good+old+days_10198588.html   \n",
       "57646  /z/ziggy+marley/hand+to+mouth_20531167.html   \n",
       "57647           /z/zwan/come+with+me_20148981.html   \n",
       "57648                 /z/zwan/desire_20148986.html   \n",
       "57649              /z/zwan/heartsong_20148991.html   \n",
       "\n",
       "                                                    text  \n",
       "0      Look at her face, it's a wonderful face  \\r\\nA...  \n",
       "1      Take it easy with me, please  \\r\\nTouch me gen...  \n",
       "2      I'll never know why I had to go  \\r\\nWhy I had...  \n",
       "3      Making somebody happy is a question of give an...  \n",
       "4      Making somebody happy is a question of give an...  \n",
       "...                                                  ...  \n",
       "57645  Irie days come on play  \\r\\nLet the angels fly...  \n",
       "57646  Power to the workers  \\r\\nMore power  \\r\\nPowe...  \n",
       "57647  all you need  \\r\\nis something i'll believe  \\...  \n",
       "57648  northern star  \\r\\nam i frightened  \\r\\nwhere ...  \n",
       "57649  come in  \\r\\nmake yourself at home  \\r\\ni'm a ...  \n",
       "\n",
       "[57647 rows x 4 columns]"
      ]
     },
     "execution_count": 53,
     "metadata": {},
     "output_type": "execute_result"
    }
   ],
   "source": [
    "df"
   ]
  },
  {
   "cell_type": "code",
   "execution_count": null,
   "id": "cd51286a",
   "metadata": {},
   "outputs": [],
   "source": []
  },
  {
   "cell_type": "code",
   "execution_count": 54,
   "id": "77ac93e4",
   "metadata": {},
   "outputs": [],
   "source": [
    "df = df.drop(['text','link'],axis=1)"
   ]
  },
  {
   "cell_type": "code",
   "execution_count": null,
   "id": "822325df",
   "metadata": {},
   "outputs": [],
   "source": []
  },
  {
   "cell_type": "code",
   "execution_count": 55,
   "id": "7cc8dabb",
   "metadata": {},
   "outputs": [],
   "source": [
    "df.replace(to_replace=[r\",\", \"-\"], value=[\"\",\" \"], regex=True, inplace=True)"
   ]
  },
  {
   "cell_type": "code",
   "execution_count": 56,
   "id": "cf39657a",
   "metadata": {},
   "outputs": [
    {
     "data": {
      "text/html": [
       "<div>\n",
       "<style scoped>\n",
       "    .dataframe tbody tr th:only-of-type {\n",
       "        vertical-align: middle;\n",
       "    }\n",
       "\n",
       "    .dataframe tbody tr th {\n",
       "        vertical-align: top;\n",
       "    }\n",
       "\n",
       "    .dataframe thead th {\n",
       "        text-align: right;\n",
       "    }\n",
       "</style>\n",
       "<table border=\"1\" class=\"dataframe\">\n",
       "  <thead>\n",
       "    <tr style=\"text-align: right;\">\n",
       "      <th></th>\n",
       "      <th>artist</th>\n",
       "      <th>song</th>\n",
       "    </tr>\n",
       "  </thead>\n",
       "  <tbody>\n",
       "    <tr>\n",
       "      <th>0</th>\n",
       "      <td>ABBA</td>\n",
       "      <td>Ahe's My Kind Of Girl</td>\n",
       "    </tr>\n",
       "    <tr>\n",
       "      <th>1</th>\n",
       "      <td>ABBA</td>\n",
       "      <td>Andante Andante</td>\n",
       "    </tr>\n",
       "    <tr>\n",
       "      <th>2</th>\n",
       "      <td>ABBA</td>\n",
       "      <td>As Good As New</td>\n",
       "    </tr>\n",
       "    <tr>\n",
       "      <th>3</th>\n",
       "      <td>ABBA</td>\n",
       "      <td>Bang</td>\n",
       "    </tr>\n",
       "    <tr>\n",
       "      <th>4</th>\n",
       "      <td>ABBA</td>\n",
       "      <td>Bang A Boomerang</td>\n",
       "    </tr>\n",
       "    <tr>\n",
       "      <th>...</th>\n",
       "      <td>...</td>\n",
       "      <td>...</td>\n",
       "    </tr>\n",
       "    <tr>\n",
       "      <th>57645</th>\n",
       "      <td>Ziggy Marley</td>\n",
       "      <td>Good Old Days</td>\n",
       "    </tr>\n",
       "    <tr>\n",
       "      <th>57646</th>\n",
       "      <td>Ziggy Marley</td>\n",
       "      <td>Hand To Mouth</td>\n",
       "    </tr>\n",
       "    <tr>\n",
       "      <th>57647</th>\n",
       "      <td>Zwan</td>\n",
       "      <td>Come With Me</td>\n",
       "    </tr>\n",
       "    <tr>\n",
       "      <th>57648</th>\n",
       "      <td>Zwan</td>\n",
       "      <td>Desire</td>\n",
       "    </tr>\n",
       "    <tr>\n",
       "      <th>57649</th>\n",
       "      <td>Zwan</td>\n",
       "      <td>Heartsong</td>\n",
       "    </tr>\n",
       "  </tbody>\n",
       "</table>\n",
       "<p>57647 rows × 2 columns</p>\n",
       "</div>"
      ],
      "text/plain": [
       "             artist                   song\n",
       "0              ABBA  Ahe's My Kind Of Girl\n",
       "1              ABBA        Andante Andante\n",
       "2              ABBA         As Good As New\n",
       "3              ABBA                   Bang\n",
       "4              ABBA       Bang A Boomerang\n",
       "...             ...                    ...\n",
       "57645  Ziggy Marley          Good Old Days\n",
       "57646  Ziggy Marley          Hand To Mouth\n",
       "57647          Zwan           Come With Me\n",
       "57648          Zwan                 Desire\n",
       "57649          Zwan              Heartsong\n",
       "\n",
       "[57647 rows x 2 columns]"
      ]
     },
     "execution_count": 56,
     "metadata": {},
     "output_type": "execute_result"
    }
   ],
   "source": [
    "df"
   ]
  },
  {
   "cell_type": "code",
   "execution_count": 57,
   "id": "461eb79d",
   "metadata": {},
   "outputs": [
    {
     "data": {
      "text/html": [
       "<div>\n",
       "<style scoped>\n",
       "    .dataframe tbody tr th:only-of-type {\n",
       "        vertical-align: middle;\n",
       "    }\n",
       "\n",
       "    .dataframe tbody tr th {\n",
       "        vertical-align: top;\n",
       "    }\n",
       "\n",
       "    .dataframe thead th {\n",
       "        text-align: right;\n",
       "    }\n",
       "</style>\n",
       "<table border=\"1\" class=\"dataframe\">\n",
       "  <thead>\n",
       "    <tr style=\"text-align: right;\">\n",
       "      <th></th>\n",
       "      <th>song</th>\n",
       "    </tr>\n",
       "  </thead>\n",
       "  <tbody>\n",
       "    <tr>\n",
       "      <th>0</th>\n",
       "      <td>Ahe's My Kind Of Girl</td>\n",
       "    </tr>\n",
       "    <tr>\n",
       "      <th>1</th>\n",
       "      <td>Andante Andante</td>\n",
       "    </tr>\n",
       "    <tr>\n",
       "      <th>2</th>\n",
       "      <td>As Good As New</td>\n",
       "    </tr>\n",
       "    <tr>\n",
       "      <th>3</th>\n",
       "      <td>Bang</td>\n",
       "    </tr>\n",
       "    <tr>\n",
       "      <th>4</th>\n",
       "      <td>Bang A Boomerang</td>\n",
       "    </tr>\n",
       "    <tr>\n",
       "      <th>...</th>\n",
       "      <td>...</td>\n",
       "    </tr>\n",
       "    <tr>\n",
       "      <th>57645</th>\n",
       "      <td>Good Old Days</td>\n",
       "    </tr>\n",
       "    <tr>\n",
       "      <th>57646</th>\n",
       "      <td>Hand To Mouth</td>\n",
       "    </tr>\n",
       "    <tr>\n",
       "      <th>57647</th>\n",
       "      <td>Come With Me</td>\n",
       "    </tr>\n",
       "    <tr>\n",
       "      <th>57648</th>\n",
       "      <td>Desire</td>\n",
       "    </tr>\n",
       "    <tr>\n",
       "      <th>57649</th>\n",
       "      <td>Heartsong</td>\n",
       "    </tr>\n",
       "  </tbody>\n",
       "</table>\n",
       "<p>57647 rows × 1 columns</p>\n",
       "</div>"
      ],
      "text/plain": [
       "                        song\n",
       "0      Ahe's My Kind Of Girl\n",
       "1            Andante Andante\n",
       "2             As Good As New\n",
       "3                       Bang\n",
       "4           Bang A Boomerang\n",
       "...                      ...\n",
       "57645          Good Old Days\n",
       "57646          Hand To Mouth\n",
       "57647           Come With Me\n",
       "57648                 Desire\n",
       "57649              Heartsong\n",
       "\n",
       "[57647 rows x 1 columns]"
      ]
     },
     "execution_count": 57,
     "metadata": {},
     "output_type": "execute_result"
    }
   ],
   "source": [
    "x = df.drop('artist',axis=1)\n",
    "x"
   ]
  },
  {
   "cell_type": "code",
   "execution_count": 59,
   "id": "52a09dd7",
   "metadata": {},
   "outputs": [
    {
     "data": {
      "text/plain": [
       "0                ABBA\n",
       "1                ABBA\n",
       "2                ABBA\n",
       "3                ABBA\n",
       "4                ABBA\n",
       "             ...     \n",
       "57645    Ziggy Marley\n",
       "57646    Ziggy Marley\n",
       "57647            Zwan\n",
       "57648            Zwan\n",
       "57649            Zwan\n",
       "Name: artist, Length: 57647, dtype: object"
      ]
     },
     "execution_count": 59,
     "metadata": {},
     "output_type": "execute_result"
    }
   ],
   "source": [
    "y = df['artist']\n",
    "y"
   ]
  },
  {
   "cell_type": "code",
   "execution_count": 62,
   "id": "adda500a",
   "metadata": {},
   "outputs": [
    {
     "data": {
      "text/plain": [
       "array([  1,   1,   1, ..., 641, 641, 641])"
      ]
     },
     "execution_count": 62,
     "metadata": {},
     "output_type": "execute_result"
    }
   ],
   "source": [
    "le = LabelEncoder()\n",
    "yle = le.fit_transform(y)\n",
    "yle"
   ]
  },
  {
   "cell_type": "code",
   "execution_count": 66,
   "id": "347c660e",
   "metadata": {},
   "outputs": [
    {
     "data": {
      "text/html": [
       "<div>\n",
       "<style scoped>\n",
       "    .dataframe tbody tr th:only-of-type {\n",
       "        vertical-align: middle;\n",
       "    }\n",
       "\n",
       "    .dataframe tbody tr th {\n",
       "        vertical-align: top;\n",
       "    }\n",
       "\n",
       "    .dataframe thead th {\n",
       "        text-align: right;\n",
       "    }\n",
       "</style>\n",
       "<table border=\"1\" class=\"dataframe\">\n",
       "  <thead>\n",
       "    <tr style=\"text-align: right;\">\n",
       "      <th></th>\n",
       "      <th>song</th>\n",
       "    </tr>\n",
       "  </thead>\n",
       "  <tbody>\n",
       "    <tr>\n",
       "      <th>739</th>\n",
       "      <td>When A Child Is Born</td>\n",
       "    </tr>\n",
       "    <tr>\n",
       "      <th>52178</th>\n",
       "      <td>The Caves Of Altamira</td>\n",
       "    </tr>\n",
       "    <tr>\n",
       "      <th>24928</th>\n",
       "      <td>Valentine</td>\n",
       "    </tr>\n",
       "    <tr>\n",
       "      <th>5316</th>\n",
       "      <td>All Your Love</td>\n",
       "    </tr>\n",
       "    <tr>\n",
       "      <th>45629</th>\n",
       "      <td>Free Ride</td>\n",
       "    </tr>\n",
       "    <tr>\n",
       "      <th>...</th>\n",
       "      <td>...</td>\n",
       "    </tr>\n",
       "    <tr>\n",
       "      <th>5695</th>\n",
       "      <td>Exodus</td>\n",
       "    </tr>\n",
       "    <tr>\n",
       "      <th>8006</th>\n",
       "      <td>All I Want</td>\n",
       "    </tr>\n",
       "    <tr>\n",
       "      <th>17745</th>\n",
       "      <td>Mess Me Up</td>\n",
       "    </tr>\n",
       "    <tr>\n",
       "      <th>17931</th>\n",
       "      <td>2000 Light Years From Home</td>\n",
       "    </tr>\n",
       "    <tr>\n",
       "      <th>45919</th>\n",
       "      <td>Silver City Bound</td>\n",
       "    </tr>\n",
       "  </tbody>\n",
       "</table>\n",
       "<p>40352 rows × 1 columns</p>\n",
       "</div>"
      ],
      "text/plain": [
       "                             song\n",
       "739          When A Child Is Born\n",
       "52178       The Caves Of Altamira\n",
       "24928                   Valentine\n",
       "5316                All Your Love\n",
       "45629                   Free Ride\n",
       "...                           ...\n",
       "5695                       Exodus\n",
       "8006                   All I Want\n",
       "17745                  Mess Me Up\n",
       "17931  2000 Light Years From Home\n",
       "45919           Silver City Bound\n",
       "\n",
       "[40352 rows x 1 columns]"
      ]
     },
     "execution_count": 66,
     "metadata": {},
     "output_type": "execute_result"
    }
   ],
   "source": [
    "xtrain,xtest,ytrain,ytest = train_test_split(x,yle,random_state=101,test_size=0.3)\n",
    "xtrain"
   ]
  },
  {
   "cell_type": "code",
   "execution_count": 74,
   "id": "7d0ade26",
   "metadata": {},
   "outputs": [
    {
     "data": {
      "text/plain": [
       "<40352x11991 sparse matrix of type '<class 'numpy.float64'>'\n",
       "\twith 117779 stored elements in Compressed Sparse Row format>"
      ]
     },
     "execution_count": 74,
     "metadata": {},
     "output_type": "execute_result"
    }
   ],
   "source": [
    "tfi = TfidfVectorizer()\n",
    "s_xtr = tfi.fit_transform(xtrain['song'])\n",
    "s_xtr"
   ]
  },
  {
   "cell_type": "code",
   "execution_count": 75,
   "id": "007a1a6b",
   "metadata": {},
   "outputs": [
    {
     "data": {
      "text/plain": [
       "<17295x11991 sparse matrix of type '<class 'numpy.float64'>'\n",
       "\twith 47455 stored elements in Compressed Sparse Row format>"
      ]
     },
     "execution_count": 75,
     "metadata": {},
     "output_type": "execute_result"
    }
   ],
   "source": [
    "s_xte = tfi.transform(xtest['song'])\n",
    "s_xte"
   ]
  },
  {
   "cell_type": "code",
   "execution_count": 76,
   "id": "cf77a5a8",
   "metadata": {},
   "outputs": [
    {
     "data": {
      "text/html": [
       "<style>#sk-container-id-2 {color: black;}#sk-container-id-2 pre{padding: 0;}#sk-container-id-2 div.sk-toggleable {background-color: white;}#sk-container-id-2 label.sk-toggleable__label {cursor: pointer;display: block;width: 100%;margin-bottom: 0;padding: 0.3em;box-sizing: border-box;text-align: center;}#sk-container-id-2 label.sk-toggleable__label-arrow:before {content: \"▸\";float: left;margin-right: 0.25em;color: #696969;}#sk-container-id-2 label.sk-toggleable__label-arrow:hover:before {color: black;}#sk-container-id-2 div.sk-estimator:hover label.sk-toggleable__label-arrow:before {color: black;}#sk-container-id-2 div.sk-toggleable__content {max-height: 0;max-width: 0;overflow: hidden;text-align: left;background-color: #f0f8ff;}#sk-container-id-2 div.sk-toggleable__content pre {margin: 0.2em;color: black;border-radius: 0.25em;background-color: #f0f8ff;}#sk-container-id-2 input.sk-toggleable__control:checked~div.sk-toggleable__content {max-height: 200px;max-width: 100%;overflow: auto;}#sk-container-id-2 input.sk-toggleable__control:checked~label.sk-toggleable__label-arrow:before {content: \"▾\";}#sk-container-id-2 div.sk-estimator input.sk-toggleable__control:checked~label.sk-toggleable__label {background-color: #d4ebff;}#sk-container-id-2 div.sk-label input.sk-toggleable__control:checked~label.sk-toggleable__label {background-color: #d4ebff;}#sk-container-id-2 input.sk-hidden--visually {border: 0;clip: rect(1px 1px 1px 1px);clip: rect(1px, 1px, 1px, 1px);height: 1px;margin: -1px;overflow: hidden;padding: 0;position: absolute;width: 1px;}#sk-container-id-2 div.sk-estimator {font-family: monospace;background-color: #f0f8ff;border: 1px dotted black;border-radius: 0.25em;box-sizing: border-box;margin-bottom: 0.5em;}#sk-container-id-2 div.sk-estimator:hover {background-color: #d4ebff;}#sk-container-id-2 div.sk-parallel-item::after {content: \"\";width: 100%;border-bottom: 1px solid gray;flex-grow: 1;}#sk-container-id-2 div.sk-label:hover label.sk-toggleable__label {background-color: #d4ebff;}#sk-container-id-2 div.sk-serial::before {content: \"\";position: absolute;border-left: 1px solid gray;box-sizing: border-box;top: 0;bottom: 0;left: 50%;z-index: 0;}#sk-container-id-2 div.sk-serial {display: flex;flex-direction: column;align-items: center;background-color: white;padding-right: 0.2em;padding-left: 0.2em;position: relative;}#sk-container-id-2 div.sk-item {position: relative;z-index: 1;}#sk-container-id-2 div.sk-parallel {display: flex;align-items: stretch;justify-content: center;background-color: white;position: relative;}#sk-container-id-2 div.sk-item::before, #sk-container-id-2 div.sk-parallel-item::before {content: \"\";position: absolute;border-left: 1px solid gray;box-sizing: border-box;top: 0;bottom: 0;left: 50%;z-index: -1;}#sk-container-id-2 div.sk-parallel-item {display: flex;flex-direction: column;z-index: 1;position: relative;background-color: white;}#sk-container-id-2 div.sk-parallel-item:first-child::after {align-self: flex-end;width: 50%;}#sk-container-id-2 div.sk-parallel-item:last-child::after {align-self: flex-start;width: 50%;}#sk-container-id-2 div.sk-parallel-item:only-child::after {width: 0;}#sk-container-id-2 div.sk-dashed-wrapped {border: 1px dashed gray;margin: 0 0.4em 0.5em 0.4em;box-sizing: border-box;padding-bottom: 0.4em;background-color: white;}#sk-container-id-2 div.sk-label label {font-family: monospace;font-weight: bold;display: inline-block;line-height: 1.2em;}#sk-container-id-2 div.sk-label-container {text-align: center;}#sk-container-id-2 div.sk-container {/* jupyter's `normalize.less` sets `[hidden] { display: none; }` but bootstrap.min.css set `[hidden] { display: none !important; }` so we also need the `!important` here to be able to override the default hidden behavior on the sphinx rendered scikit-learn.org. See: https://github.com/scikit-learn/scikit-learn/issues/21755 */display: inline-block !important;position: relative;}#sk-container-id-2 div.sk-text-repr-fallback {display: none;}</style><div id=\"sk-container-id-2\" class=\"sk-top-container\"><div class=\"sk-text-repr-fallback\"><pre>GaussianNB()</pre><b>In a Jupyter environment, please rerun this cell to show the HTML representation or trust the notebook. <br />On GitHub, the HTML representation is unable to render, please try loading this page with nbviewer.org.</b></div><div class=\"sk-container\" hidden><div class=\"sk-item\"><div class=\"sk-estimator sk-toggleable\"><input class=\"sk-toggleable__control sk-hidden--visually\" id=\"sk-estimator-id-2\" type=\"checkbox\" checked><label for=\"sk-estimator-id-2\" class=\"sk-toggleable__label sk-toggleable__label-arrow\">GaussianNB</label><div class=\"sk-toggleable__content\"><pre>GaussianNB()</pre></div></div></div></div></div>"
      ],
      "text/plain": [
       "GaussianNB()"
      ]
     },
     "execution_count": 76,
     "metadata": {},
     "output_type": "execute_result"
    }
   ],
   "source": [
    "gnb = GaussianNB()\n",
    "gnb.fit(s_xtr.toarray(),ytrain)"
   ]
  },
  {
   "cell_type": "code",
   "execution_count": 77,
   "id": "bb9d81dc",
   "metadata": {},
   "outputs": [
    {
     "data": {
      "text/plain": [
       "0.010234171725932351"
      ]
     },
     "execution_count": 77,
     "metadata": {},
     "output_type": "execute_result"
    }
   ],
   "source": [
    "gnbpreds = gnb.predict(s_xte.toarray())\n",
    "accuracy_score(ytest,gnbpreds)"
   ]
  },
  {
   "cell_type": "code",
   "execution_count": null,
   "id": "96912fac",
   "metadata": {},
   "outputs": [],
   "source": []
  },
  {
   "cell_type": "code",
   "execution_count": 80,
   "id": "7394952f",
   "metadata": {},
   "outputs": [
    {
     "data": {
      "text/html": [
       "<style>#sk-container-id-3 {color: black;}#sk-container-id-3 pre{padding: 0;}#sk-container-id-3 div.sk-toggleable {background-color: white;}#sk-container-id-3 label.sk-toggleable__label {cursor: pointer;display: block;width: 100%;margin-bottom: 0;padding: 0.3em;box-sizing: border-box;text-align: center;}#sk-container-id-3 label.sk-toggleable__label-arrow:before {content: \"▸\";float: left;margin-right: 0.25em;color: #696969;}#sk-container-id-3 label.sk-toggleable__label-arrow:hover:before {color: black;}#sk-container-id-3 div.sk-estimator:hover label.sk-toggleable__label-arrow:before {color: black;}#sk-container-id-3 div.sk-toggleable__content {max-height: 0;max-width: 0;overflow: hidden;text-align: left;background-color: #f0f8ff;}#sk-container-id-3 div.sk-toggleable__content pre {margin: 0.2em;color: black;border-radius: 0.25em;background-color: #f0f8ff;}#sk-container-id-3 input.sk-toggleable__control:checked~div.sk-toggleable__content {max-height: 200px;max-width: 100%;overflow: auto;}#sk-container-id-3 input.sk-toggleable__control:checked~label.sk-toggleable__label-arrow:before {content: \"▾\";}#sk-container-id-3 div.sk-estimator input.sk-toggleable__control:checked~label.sk-toggleable__label {background-color: #d4ebff;}#sk-container-id-3 div.sk-label input.sk-toggleable__control:checked~label.sk-toggleable__label {background-color: #d4ebff;}#sk-container-id-3 input.sk-hidden--visually {border: 0;clip: rect(1px 1px 1px 1px);clip: rect(1px, 1px, 1px, 1px);height: 1px;margin: -1px;overflow: hidden;padding: 0;position: absolute;width: 1px;}#sk-container-id-3 div.sk-estimator {font-family: monospace;background-color: #f0f8ff;border: 1px dotted black;border-radius: 0.25em;box-sizing: border-box;margin-bottom: 0.5em;}#sk-container-id-3 div.sk-estimator:hover {background-color: #d4ebff;}#sk-container-id-3 div.sk-parallel-item::after {content: \"\";width: 100%;border-bottom: 1px solid gray;flex-grow: 1;}#sk-container-id-3 div.sk-label:hover label.sk-toggleable__label {background-color: #d4ebff;}#sk-container-id-3 div.sk-serial::before {content: \"\";position: absolute;border-left: 1px solid gray;box-sizing: border-box;top: 0;bottom: 0;left: 50%;z-index: 0;}#sk-container-id-3 div.sk-serial {display: flex;flex-direction: column;align-items: center;background-color: white;padding-right: 0.2em;padding-left: 0.2em;position: relative;}#sk-container-id-3 div.sk-item {position: relative;z-index: 1;}#sk-container-id-3 div.sk-parallel {display: flex;align-items: stretch;justify-content: center;background-color: white;position: relative;}#sk-container-id-3 div.sk-item::before, #sk-container-id-3 div.sk-parallel-item::before {content: \"\";position: absolute;border-left: 1px solid gray;box-sizing: border-box;top: 0;bottom: 0;left: 50%;z-index: -1;}#sk-container-id-3 div.sk-parallel-item {display: flex;flex-direction: column;z-index: 1;position: relative;background-color: white;}#sk-container-id-3 div.sk-parallel-item:first-child::after {align-self: flex-end;width: 50%;}#sk-container-id-3 div.sk-parallel-item:last-child::after {align-self: flex-start;width: 50%;}#sk-container-id-3 div.sk-parallel-item:only-child::after {width: 0;}#sk-container-id-3 div.sk-dashed-wrapped {border: 1px dashed gray;margin: 0 0.4em 0.5em 0.4em;box-sizing: border-box;padding-bottom: 0.4em;background-color: white;}#sk-container-id-3 div.sk-label label {font-family: monospace;font-weight: bold;display: inline-block;line-height: 1.2em;}#sk-container-id-3 div.sk-label-container {text-align: center;}#sk-container-id-3 div.sk-container {/* jupyter's `normalize.less` sets `[hidden] { display: none; }` but bootstrap.min.css set `[hidden] { display: none !important; }` so we also need the `!important` here to be able to override the default hidden behavior on the sphinx rendered scikit-learn.org. See: https://github.com/scikit-learn/scikit-learn/issues/21755 */display: inline-block !important;position: relative;}#sk-container-id-3 div.sk-text-repr-fallback {display: none;}</style><div id=\"sk-container-id-3\" class=\"sk-top-container\"><div class=\"sk-text-repr-fallback\"><pre>MultinomialNB()</pre><b>In a Jupyter environment, please rerun this cell to show the HTML representation or trust the notebook. <br />On GitHub, the HTML representation is unable to render, please try loading this page with nbviewer.org.</b></div><div class=\"sk-container\" hidden><div class=\"sk-item\"><div class=\"sk-estimator sk-toggleable\"><input class=\"sk-toggleable__control sk-hidden--visually\" id=\"sk-estimator-id-3\" type=\"checkbox\" checked><label for=\"sk-estimator-id-3\" class=\"sk-toggleable__label sk-toggleable__label-arrow\">MultinomialNB</label><div class=\"sk-toggleable__content\"><pre>MultinomialNB()</pre></div></div></div></div></div>"
      ],
      "text/plain": [
       "MultinomialNB()"
      ]
     },
     "execution_count": 80,
     "metadata": {},
     "output_type": "execute_result"
    }
   ],
   "source": [
    "mnb = MultinomialNB()\n",
    "mnb.fit(s_xtr,ytrain)"
   ]
  },
  {
   "cell_type": "code",
   "execution_count": 81,
   "id": "37cdb71d",
   "metadata": {},
   "outputs": [
    {
     "data": {
      "text/plain": [
       "0.010349812084417463"
      ]
     },
     "execution_count": 81,
     "metadata": {},
     "output_type": "execute_result"
    }
   ],
   "source": [
    "mnbpreds = mnb.predict(s_xte)\n",
    "accuracy_score(mnbpreds,ytest)"
   ]
  },
  {
   "cell_type": "code",
   "execution_count": null,
   "id": "918e8a19",
   "metadata": {},
   "outputs": [],
   "source": []
  },
  {
   "cell_type": "code",
   "execution_count": 82,
   "id": "8ee21ce3",
   "metadata": {},
   "outputs": [
    {
     "data": {
      "text/html": [
       "<style>#sk-container-id-4 {color: black;}#sk-container-id-4 pre{padding: 0;}#sk-container-id-4 div.sk-toggleable {background-color: white;}#sk-container-id-4 label.sk-toggleable__label {cursor: pointer;display: block;width: 100%;margin-bottom: 0;padding: 0.3em;box-sizing: border-box;text-align: center;}#sk-container-id-4 label.sk-toggleable__label-arrow:before {content: \"▸\";float: left;margin-right: 0.25em;color: #696969;}#sk-container-id-4 label.sk-toggleable__label-arrow:hover:before {color: black;}#sk-container-id-4 div.sk-estimator:hover label.sk-toggleable__label-arrow:before {color: black;}#sk-container-id-4 div.sk-toggleable__content {max-height: 0;max-width: 0;overflow: hidden;text-align: left;background-color: #f0f8ff;}#sk-container-id-4 div.sk-toggleable__content pre {margin: 0.2em;color: black;border-radius: 0.25em;background-color: #f0f8ff;}#sk-container-id-4 input.sk-toggleable__control:checked~div.sk-toggleable__content {max-height: 200px;max-width: 100%;overflow: auto;}#sk-container-id-4 input.sk-toggleable__control:checked~label.sk-toggleable__label-arrow:before {content: \"▾\";}#sk-container-id-4 div.sk-estimator input.sk-toggleable__control:checked~label.sk-toggleable__label {background-color: #d4ebff;}#sk-container-id-4 div.sk-label input.sk-toggleable__control:checked~label.sk-toggleable__label {background-color: #d4ebff;}#sk-container-id-4 input.sk-hidden--visually {border: 0;clip: rect(1px 1px 1px 1px);clip: rect(1px, 1px, 1px, 1px);height: 1px;margin: -1px;overflow: hidden;padding: 0;position: absolute;width: 1px;}#sk-container-id-4 div.sk-estimator {font-family: monospace;background-color: #f0f8ff;border: 1px dotted black;border-radius: 0.25em;box-sizing: border-box;margin-bottom: 0.5em;}#sk-container-id-4 div.sk-estimator:hover {background-color: #d4ebff;}#sk-container-id-4 div.sk-parallel-item::after {content: \"\";width: 100%;border-bottom: 1px solid gray;flex-grow: 1;}#sk-container-id-4 div.sk-label:hover label.sk-toggleable__label {background-color: #d4ebff;}#sk-container-id-4 div.sk-serial::before {content: \"\";position: absolute;border-left: 1px solid gray;box-sizing: border-box;top: 0;bottom: 0;left: 50%;z-index: 0;}#sk-container-id-4 div.sk-serial {display: flex;flex-direction: column;align-items: center;background-color: white;padding-right: 0.2em;padding-left: 0.2em;position: relative;}#sk-container-id-4 div.sk-item {position: relative;z-index: 1;}#sk-container-id-4 div.sk-parallel {display: flex;align-items: stretch;justify-content: center;background-color: white;position: relative;}#sk-container-id-4 div.sk-item::before, #sk-container-id-4 div.sk-parallel-item::before {content: \"\";position: absolute;border-left: 1px solid gray;box-sizing: border-box;top: 0;bottom: 0;left: 50%;z-index: -1;}#sk-container-id-4 div.sk-parallel-item {display: flex;flex-direction: column;z-index: 1;position: relative;background-color: white;}#sk-container-id-4 div.sk-parallel-item:first-child::after {align-self: flex-end;width: 50%;}#sk-container-id-4 div.sk-parallel-item:last-child::after {align-self: flex-start;width: 50%;}#sk-container-id-4 div.sk-parallel-item:only-child::after {width: 0;}#sk-container-id-4 div.sk-dashed-wrapped {border: 1px dashed gray;margin: 0 0.4em 0.5em 0.4em;box-sizing: border-box;padding-bottom: 0.4em;background-color: white;}#sk-container-id-4 div.sk-label label {font-family: monospace;font-weight: bold;display: inline-block;line-height: 1.2em;}#sk-container-id-4 div.sk-label-container {text-align: center;}#sk-container-id-4 div.sk-container {/* jupyter's `normalize.less` sets `[hidden] { display: none; }` but bootstrap.min.css set `[hidden] { display: none !important; }` so we also need the `!important` here to be able to override the default hidden behavior on the sphinx rendered scikit-learn.org. See: https://github.com/scikit-learn/scikit-learn/issues/21755 */display: inline-block !important;position: relative;}#sk-container-id-4 div.sk-text-repr-fallback {display: none;}</style><div id=\"sk-container-id-4\" class=\"sk-top-container\"><div class=\"sk-text-repr-fallback\"><pre>BernoulliNB()</pre><b>In a Jupyter environment, please rerun this cell to show the HTML representation or trust the notebook. <br />On GitHub, the HTML representation is unable to render, please try loading this page with nbviewer.org.</b></div><div class=\"sk-container\" hidden><div class=\"sk-item\"><div class=\"sk-estimator sk-toggleable\"><input class=\"sk-toggleable__control sk-hidden--visually\" id=\"sk-estimator-id-4\" type=\"checkbox\" checked><label for=\"sk-estimator-id-4\" class=\"sk-toggleable__label sk-toggleable__label-arrow\">BernoulliNB</label><div class=\"sk-toggleable__content\"><pre>BernoulliNB()</pre></div></div></div></div></div>"
      ],
      "text/plain": [
       "BernoulliNB()"
      ]
     },
     "execution_count": 82,
     "metadata": {},
     "output_type": "execute_result"
    }
   ],
   "source": [
    "bnb = BernoulliNB()\n",
    "bnb.fit(s_xtr,ytrain)"
   ]
  },
  {
   "cell_type": "code",
   "execution_count": 83,
   "id": "6e8514c1",
   "metadata": {},
   "outputs": [
    {
     "data": {
      "text/plain": [
       "0.0034113905753107836"
      ]
     },
     "execution_count": 83,
     "metadata": {},
     "output_type": "execute_result"
    }
   ],
   "source": [
    "bnbpreds = bnb.predict(s_xte)\n",
    "accuracy_score(bnbpreds,ytest)"
   ]
  },
  {
   "cell_type": "code",
   "execution_count": null,
   "id": "a2a3b9ac",
   "metadata": {},
   "outputs": [],
   "source": []
  }
 ],
 "metadata": {
  "kernelspec": {
   "display_name": "Python 3 (ipykernel)",
   "language": "python",
   "name": "python3"
  },
  "language_info": {
   "codemirror_mode": {
    "name": "ipython",
    "version": 3
   },
   "file_extension": ".py",
   "mimetype": "text/x-python",
   "name": "python",
   "nbconvert_exporter": "python",
   "pygments_lexer": "ipython3",
   "version": "3.8.17"
  }
 },
 "nbformat": 4,
 "nbformat_minor": 5
}
